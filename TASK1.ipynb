{
  "nbformat": 4,
  "nbformat_minor": 0,
  "metadata": {
    "colab": {
      "name": "TASK1",
      "provenance": [],
      "authorship_tag": "ABX9TyPrjvUHqwS3caifpVZKv+vj",
      "include_colab_link": true
    },
    "kernelspec": {
      "name": "python3",
      "display_name": "Python 3"
    },
    "language_info": {
      "name": "python"
    }
  },
  "cells": [
    {
      "cell_type": "markdown",
      "metadata": {
        "id": "view-in-github",
        "colab_type": "text"
      },
      "source": [
        "<a href=\"https://colab.research.google.com/github/M-Ramya/INTERN-ACADEMY/blob/main/TASK1.ipynb\" target=\"_parent\"><img src=\"https://colab.research.google.com/assets/colab-badge.svg\" alt=\"Open In Colab\"/></a>"
      ]
    },
    {
      "cell_type": "code",
      "metadata": {
        "id": "XsYp9dwevNi6"
      },
      "source": [
        "import pyttsx3 \n",
        "import datetime\n",
        "import time\n",
        "from win10toast import ToastNotifier\n",
        "toaster = ToastNotifier()\n",
        "\n",
        "\n",
        "engine = pyttsx3.init()\n",
        "\n",
        "\n",
        "def speak(audio):\n",
        "    engine.say(audio)\n",
        "    engine.runAndWait()\n",
        "\n",
        "\n",
        "def nowtime():\n",
        "    strTime = datetime.datetime.now().strftime(\"%H\") \n",
        "    return strTime\n",
        "nowtime=nowtime()\n",
        "\n",
        "\n",
        "routine_work = {\n",
        "    \n",
        " \" Time to brush\":6 ,\n",
        "  \"Time to drink tea\":7,\n",
        "  \"Time to take bath\":8,\n",
        "  \"Time to have your breakfast \":9,\n",
        "  \"Be ready for your online classes\":11,\n",
        "  \"Time to take lunch\":12,\n",
        "  \"Take rest\":15,\n",
        "  \"Time to read story books\":17,\n",
        "  \"now time to clean the home\":18,\n",
        "  \"Time to Study\":19,\n",
        "  \"Time to have Dinner\":20,\n",
        "  \"Time to revise the today classes\":21,\n",
        "  \"Go to bed\":23\n",
        "}\n",
        "\n",
        "\n",
        "while True:\n",
        "    for i in range(0,len(routine_work)):\n",
        "        task=tuple(routine_work.items())[i][0]\n",
        "        y=int(routine_work.get(task))\n",
        "        \n",
        "\n",
        "        \n",
        "        if y==int(nowtime):\n",
        "            speak(\"It is,\"+str(nowtime)+str(task))\n",
        "            toaster.show_toast(str(task),\"It is \"+str(nowtime),duration=10) \n",
        "\n",
        "    time.sleep(3600)"
      ],
      "execution_count": null,
      "outputs": []
    }
  ]
}